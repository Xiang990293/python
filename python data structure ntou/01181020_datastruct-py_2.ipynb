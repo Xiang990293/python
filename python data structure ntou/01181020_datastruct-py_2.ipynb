{
 "cells": [
  {
   "cell_type": "code",
   "execution_count": 4,
   "metadata": {},
   "outputs": [
    {
     "name": "stdout",
     "output_type": "stream",
     "text": [
      "年齡 = 20\n",
      "身高 = 171\n",
      "體重 = 59\n",
      "年齡 = 20\n",
      "身高 = 171\n",
      "體重 = 59\n"
     ]
    }
   ],
   "source": [
    "age = 20\n",
    "height= 171\n",
    "weight = 59\n",
    "print(\"年齡 = \"+str(age))\n",
    "print(\"身高 = \"+str(height))\n",
    "print(\"體重 = \"+str(weight))\n",
    "print(f\"年齡 = {age}\")\n",
    "print(f\"身高 = {height}\")\n",
    "print(f\"體重 = {weight}\")"
   ]
  },
  {
   "cell_type": "code",
   "execution_count": 5,
   "metadata": {},
   "outputs": [
    {
     "name": "stdout",
     "output_type": "stream",
     "text": [
      "<class 'int'>\n",
      "20\n",
      "21\n",
      "19\n",
      "40\n",
      "10.0\n",
      "10\n",
      "0\n",
      "400\n",
      "21\n",
      "42\n"
     ]
    }
   ],
   "source": [
    "x = 20\n",
    "print(type(x))\n",
    "print(x)\n",
    "print(x + 1)\n",
    "print(x - 1)\n",
    "print(x * 2)\n",
    "print(x / 2)\n",
    "print(x // 2)\n",
    "print(x % 2)\n",
    "print(x ** 2)\n",
    "x += 1\n",
    "print(x)\n",
    "x *= 2\n",
    "print(x)"
   ]
  },
  {
   "cell_type": "code",
   "execution_count": 6,
   "metadata": {},
   "outputs": [
    {
     "name": "stdout",
     "output_type": "stream",
     "text": [
      "<class 'float'>\n",
      "59.0 60.0 118.0 3481.0\n"
     ]
    }
   ],
   "source": [
    "y = 59.0\n",
    "print(type(y))\n",
    "print(y, y + 1, y * 2, y ** 2)"
   ]
  }
 ],
 "metadata": {
  "kernelspec": {
   "display_name": "Python 3",
   "language": "python",
   "name": "python3"
  },
  "language_info": {
   "codemirror_mode": {
    "name": "ipython",
    "version": 3
   },
   "file_extension": ".py",
   "mimetype": "text/x-python",
   "name": "python",
   "nbconvert_exporter": "python",
   "pygments_lexer": "ipython3",
   "version": "3.13.2"
  }
 },
 "nbformat": 4,
 "nbformat_minor": 2
}
