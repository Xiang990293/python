{
 "cells": [
  {
   "cell_type": "code",
   "execution_count": 3,
   "metadata": {},
   "outputs": [
    {
     "name": "stdout",
     "output_type": "stream",
     "text": [
      "今天氣溫 = 20\n"
     ]
    }
   ],
   "source": [
    "temp = \"\"\n",
    "while not temp.isdigit():\n",
    "   temp = input(\"請輸入氣溫: \")\n",
    "\n",
    "temp = int(temp)\n",
    "if temp < 20:\n",
    "    print(f\"加件外套!\")\n",
    "print(f\"今天氣溫 = {temp}\")"
   ]
  },
  {
   "cell_type": "code",
   "execution_count": 8,
   "metadata": {},
   "outputs": [
    {
     "name": "stdout",
     "output_type": "stream",
     "text": [
      "成績不及格!\n"
     ]
    }
   ],
   "source": [
    "score = \"\"\n",
    "infix = \"\"\n",
    "while not score.isdigit():\n",
    "   score = input(\"請輸入成績: \")\n",
    "\n",
    "score = int(score)\n",
    "if score >= 60:\n",
    "   infix = \"\"\n",
    "else:\n",
    "   infix = \"不\"\n",
    "print(f\"成績{infix}及格!\")\n",
    "# print(f\"成績{\"不\" if score < 60 else \"\"}及格!\")"
   ]
  },
  {
   "cell_type": "code",
   "execution_count": 7,
   "metadata": {},
   "outputs": [
    {
     "name": "stdout",
     "output_type": "stream",
     "text": [
      "總和 = 210\n"
     ]
    }
   ],
   "source": [
    "max = \"\"\n",
    "while not max.isdigit():\n",
    "   max = input(\"請輸入最大值: \")\n",
    "\n",
    "sum = 0\n",
    "max = int(max)\n",
    "for i in range(1, max+1):\n",
    "   sum += i\n",
    "print(f\"總和 = {sum}\")"
   ]
  },
  {
   "cell_type": "code",
   "execution_count": 9,
   "metadata": {},
   "outputs": [
    {
     "name": "stdout",
     "output_type": "stream",
     "text": [
      "0\n",
      "1\n",
      "2\n",
      "3\n",
      "4\n"
     ]
    }
   ],
   "source": [
    "for i in range(5):\n",
    "    print(i)"
   ]
  },
  {
   "cell_type": "code",
   "execution_count": 10,
   "metadata": {},
   "outputs": [
    {
     "name": "stdout",
     "output_type": "stream",
     "text": [
      "5\n",
      "6\n",
      "7\n",
      "8\n",
      "9\n"
     ]
    }
   ],
   "source": [
    "for i in range(5,10):\n",
    "    print(i)"
   ]
  },
  {
   "cell_type": "code",
   "execution_count": 20,
   "metadata": {},
   "outputs": [
    {
     "name": "stdout",
     "output_type": "stream",
     "text": [
      "5\n",
      "7\n",
      "9\n"
     ]
    }
   ],
   "source": [
    "for i in range(5,10,2):\n",
    "    print(i)"
   ]
  },
  {
   "cell_type": "code",
   "execution_count": 21,
   "metadata": {},
   "outputs": [
    {
     "name": "stdout",
     "output_type": "stream",
     "text": [
      "0 1 2 3 4\n",
      "5 6 7 8 9\n",
      "5 7 9\n"
     ]
    }
   ],
   "source": [
    "print(*range(5))\n",
    "print(*range(5,10))\n",
    "print(*range(5,10,2))"
   ]
  },
  {
   "cell_type": "code",
   "execution_count": 33,
   "metadata": {},
   "outputs": [
    {
     "name": "stdout",
     "output_type": "stream",
     "text": [
      "階層數! = 145183092028285869634070784086308284983740379224208358846781574688061991349156420080065207861248000000000000000000\n",
      "階層數! = 145183092028285869634070784086308284983740379224208358846781574688061991349156420080065207861248000000000000000000\n",
      "階層數! = 145183092028285869634070784086308284983740379224208358846781574688061991349156420080065207861248000000000000000000\n"
     ]
    }
   ],
   "source": [
    "num = \"\"\n",
    "while not num.isdigit():\n",
    "    num = input(\"請輸入階層數: \")\n",
    "\n",
    "# while\n",
    "r = 1\n",
    "n = 1\n",
    "num = int(num)\n",
    "while n <= num:\n",
    "    r *= n\n",
    "    n += 1\n",
    "print(f\"階層數! = {r}\")\n",
    "\n",
    "# for\n",
    "r=1\n",
    "for i in range(1,num+1):\n",
    "    r*=i\n",
    "print(f\"階層數! = {r}\")\n",
    "\n",
    "# recursion\n",
    "def factorial(a: int):\n",
    "    if a == 0:\n",
    "        return 1\n",
    "    if a == 1:\n",
    "        return 1\n",
    "    if a > 1:\n",
    "        return a*factorial(a-1)\n",
    "r = factorial(num)\n",
    "print(f\"階層數! = {r}\")\n"
   ]
  },
  {
   "cell_type": "code",
   "execution_count": 32,
   "metadata": {},
   "outputs": [
    {
     "name": "stdout",
     "output_type": "stream",
     "text": [
      "陳天裕01181020正在學習python!\n"
     ]
    }
   ],
   "source": [
    "def print_msg():\n",
    "    print(\"陳天裕01181020正在學習python!\")\n",
    "\n",
    "print_msg()"
   ]
  },
  {
   "cell_type": "code",
   "execution_count": 34,
   "metadata": {},
   "outputs": [
    {
     "name": "stdout",
     "output_type": "stream",
     "text": [
      "2\n"
     ]
    }
   ],
   "source": [
    "import random\n",
    "print(random.randint(1, 20))"
   ]
  },
  {
   "cell_type": "code",
   "execution_count": 35,
   "metadata": {},
   "outputs": [
    {
     "name": "stdout",
     "output_type": "stream",
     "text": [
      "8\n"
     ]
    }
   ],
   "source": [
    "import random as Rnd\n",
    "print(Rnd.randint(1,20))"
   ]
  },
  {
   "cell_type": "code",
   "execution_count": 53,
   "metadata": {},
   "outputs": [
    {
     "name": "stdout",
     "output_type": "stream",
     "text": [
      "[11, 22, 33, 44] 11\n",
      "44\n",
      "[11, 22, 'py', 44]\n",
      "[11, 22, 'py', 44, 'bar']\n",
      "[11, 22, 'py', 44, 'bar', 'foo', 'alice']\n",
      "[11, 22, 'py', 44, 'bar', 'foo', 'alice', 'bob']\n",
      "alice [11, 22, 'py', 44, 'bar', 'foo']\n",
      "[11, 22, 'py']\n",
      "['foo', 'bar', 44, 'py', 22, 11]\n"
     ]
    }
   ],
   "source": [
    "ls = [11,22,33,44]\n",
    "print(ls, ls[0])\n",
    "print(ls[-1])\n",
    "\n",
    "ls[2] = \"py\"\n",
    "print(ls)\n",
    "\n",
    "ls.append(\"bar\")\n",
    "print(ls)\n",
    "\n",
    "ls.extend([\"foo\", \"alice\"])\n",
    "print(ls)\n",
    "\n",
    "print(ls + [\"bob\"])\n",
    "print(ls.pop(), ls)\n",
    "\n",
    "print(ls[0:3:])\n",
    "print(ls[::-1])\n"
   ]
  },
  {
   "cell_type": "code",
   "execution_count": 56,
   "metadata": {},
   "outputs": [
    {
     "name": "stdout",
     "output_type": "stream",
     "text": [
      "cat dog bat\n",
      "cat\n",
      "dog\n",
      "bat\n",
      "0: cat\n",
      "1: dog\n",
      "2: bat\n"
     ]
    }
   ],
   "source": [
    "animals = [\"cat\", \"dog\", \"bat\"]\n",
    "print(*animals)\n",
    "for each in animals:\n",
    "    print(each)\n",
    "for index, animal in enumerate(animals):\n",
    "    print(f\"{index}: {animal}\")"
   ]
  },
  {
   "cell_type": "code",
   "execution_count": null,
   "metadata": {},
   "outputs": [
    {
     "data": {
      "text/plain": [
       "[<matplotlib.lines.Line2D at 0x27a97239310>]"
      ]
     },
     "execution_count": 2,
     "metadata": {},
     "output_type": "execute_result"
    },
    {
     "data": {
      "image/png": "[encoded data removed]",
      "text/plain": [
       "<Figure size 640x480 with 1 Axes>"
      ]
     },
     "metadata": {},
     "output_type": "display_data"
    }
   ],
   "source": [
    "import random, matplotlib.pyplot as plt\n",
    "lst = list(range(100))\n",
    "random.shuffle(lst)\n",
    "\n",
    "plt.plot(list(range(100)),lst)\n"
   ]
  }
 ],
 "metadata": {
  "kernelspec": {
   "display_name": "Python 3",
   "language": "python",
   "name": "python3"
  },
  "language_info": {
   "codemirror_mode": {
    "name": "ipython",
    "version": 3
   },
   "file_extension": ".py",
   "mimetype": "text/x-python",
   "name": "python",
   "nbconvert_exporter": "python",
   "pygments_lexer": "ipython3",
   "version": "3.13.2"
  }
 },
 "nbformat": 4,
 "nbformat_minor": 2
}
